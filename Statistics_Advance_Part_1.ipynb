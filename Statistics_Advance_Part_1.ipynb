{
  "nbformat": 4,
  "nbformat_minor": 0,
  "metadata": {
    "colab": {
      "provenance": []
    },
    "kernelspec": {
      "name": "python3",
      "display_name": "Python 3"
    },
    "language_info": {
      "name": "python"
    }
  },
  "cells": [
    {
      "cell_type": "code",
      "execution_count": null,
      "metadata": {
        "id": "KkOcCT6BydiR"
      },
      "outputs": [],
      "source": []
    },
    {
      "cell_type": "markdown",
      "source": [
        "Statistics Advance Part 1"
      ],
      "metadata": {
        "id": "DrWWEXXfysts"
      }
    },
    {
      "cell_type": "code",
      "source": [
        "\n",
        "# ✅ 1. What is a random variable in probability theory?\n",
        "# A random variable is a variable whose possible values are numerical outcomes of a random phenomenon.\n",
        "\n",
        "# ✅ 2. What are the types of random variables?\n",
        "# 1. Discrete Random Variable: Takes countable values (e.g., 0, 1, 2)\n",
        "# 2. Continuous Random Variable: Takes uncountably infinite values (e.g., any real number in an interval)\n",
        "\n",
        "# ✅ 3. What is the difference between discrete and continuous distributions?\n",
        "# Discrete Distribution: Deals with countable outcomes (e.g., number of heads)\n",
        "# Continuous Distribution: Deals with measurable outcomes (e.g., height, weight)\n",
        "\n",
        "# ✅ 4. What are probability distribution functions (PDF)?\n",
        "# PDF describes the likelihood of a random variable taking a particular value.\n",
        "# For continuous variables, it represents the probability density.\n",
        "\n",
        "# ✅ 5. How do cumulative distribution functions (CDF) differ from PDFs?\n",
        "# CDF gives the probability that a random variable is less than or equal to a value.\n",
        "# PDF gives the likelihood at a specific value (or density for continuous).\n",
        "\n",
        "# ✅ 6. What is a discrete uniform distribution?\n",
        "# Every outcome has an equal probability.\n",
        "# Example: Rolling a fair die (each face has a 1/6 chance)\n",
        "\n",
        "# ✅ 7. What are the key properties of a Bernoulli distribution?\n",
        "# - Two outcomes: success (1) or failure (0)\n",
        "# - Single trial\n",
        "# - Probability of success = p, failure = 1 - p\n",
        "\n",
        "# ✅ 8. What is the binomial distribution, and how is it used in probability?\n",
        "# Represents number of successes in n independent Bernoulli trials.\n",
        "# Example: Tossing a coin 10 times and counting heads.\n",
        "\n",
        "# ✅ 9. What is the Poisson distribution and where is it applied?\n",
        "# Models the number of times an event occurs in a fixed interval.\n",
        "# Example: Number of customer arrivals per hour.\n",
        "\n",
        "# ✅ 10. What is a continuous uniform distribution?\n",
        "# All values in a given interval are equally likely.\n",
        "# Example: Random number between 0 and 1.\n",
        "\n",
        "# ✅ 11. What are the characteristics of a normal distribution?\n",
        "# - Bell-shaped curve\n",
        "# - Symmetrical about the mean\n",
        "# - Mean = Median = Mode\n",
        "# - Defined by mean (μ) and standard deviation (σ)\n",
        "\n",
        "# ✅ 12. What is the standard normal distribution, and why is it important?\n",
        "# A normal distribution with mean = 0 and standard deviation = 1.\n",
        "# It's used to compute Z-scores and compare data from different distributions.\n",
        "\n",
        "# ✅ 13. What is the Central Limit Theorem (CLT), and why is it critical in statistics?\n",
        "# The CLT states that the sampling distribution of the sample mean approaches a normal distribution as sample size increases, regardless of population distribution.\n",
        "\n",
        "# ✅ 14. How does the Central Limit Theorem relate to the normal distribution?\n",
        "# CLT allows us to use normal distribution for hypothesis testing and confidence intervals even when the original data is not normal.\n",
        "\n",
        "# ✅ 15. What is the application of Z statistics in hypothesis testing?\n",
        "# Z-statistics help test hypotheses when population variance is known, using the Z-distribution.\n",
        "\n",
        "# ✅ 16. How do you calculate a Z-score, and what does it represent?\n",
        "# Z = (X - μ) / σ\n",
        "# It measures how many standard deviations an element is from the mean.\n",
        "\n",
        "# ✅ 17. What are point estimates and interval estimates in statistics?\n",
        "# - Point Estimate: A single value estimate (e.g., sample mean)\n",
        "# - Interval Estimate: A range (e.g., confidence interval) likely to contain the population parameter\n",
        "\n",
        "# ✅ 18. What is the significance of confidence intervals in statistical analysis?\n",
        "# They provide a range of values that likely contain the population parameter with a certain level of confidence (e.g., 95%).\n",
        "\n",
        "# ✅ 19. What is the relationship between a Z-score and a confidence interval?\n",
        "# Z-scores determine the bounds of a confidence interval.\n",
        "# For example, Z = ±1.96 for 95% confidence.\n",
        "\n",
        "# ✅ 20. How are Z-scores used to compare different distributions?\n",
        "# By converting values from different distributions to a standard scale (Z-scale), they become comparable.\n",
        "\n",
        "# ✅ 21. What are the assumptions for applying the Central Limit Theorem?\n",
        "# - Sample size should be large (n > 30 is common)\n",
        "# - Samples are independent\n",
        "# - Random sampling\n",
        "# - Finite variance\n",
        "\n",
        "# ✅ 22. What is the concept of expected value in a probability distribution?\n",
        "# The expected value is the theoretical mean of a random variable.\n",
        "# E(X) = Σ [x * P(x)] for discrete or ∫ x*f(x) dx for continuous\n",
        "\n",
        "# ✅ 23. How does a probability distribution relate to the expected outcome of a random variable?\n",
        "# The probability distribution assigns probabilities to each possible outcome, and the expected value gives the average of these outcomes over many trials.\n"
      ],
      "metadata": {
        "id": "V4iJgVlxyuo_"
      },
      "execution_count": 2,
      "outputs": []
    }
  ]
}