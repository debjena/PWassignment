{
  "nbformat": 4,
  "nbformat_minor": 0,
  "metadata": {
    "colab": {
      "provenance": []
    },
    "kernelspec": {
      "name": "python3",
      "display_name": "Python 3"
    },
    "language_info": {
      "name": "python"
    }
  },
  "cells": [
    {
      "cell_type": "code",
      "execution_count": null,
      "metadata": {
        "id": "0N5wgJlSOJwO"
      },
      "outputs": [],
      "source": []
    },
    {
      "cell_type": "markdown",
      "source": [
        "1.  Explain the key features of Python that make it a popular choice for    \n",
        "     programming?\n",
        "- Easy to Learn and Use\n",
        "\n",
        "- Open Source and Free\n",
        "\n",
        "- Interpreted Language\n",
        "\n",
        "- Cross-platform Compatibility\n",
        "\n",
        "- Extensive Standard Library\n",
        "\n",
        "- Object-Oriented Programming (OOP)\n",
        "\n",
        "- Integrations and Libraries\n",
        "\n",
        "- Dynamically Typed\n",
        "\n",
        "- Embaded\n",
        "\n",
        "- Portable\n",
        "\n"
      ],
      "metadata": {
        "id": "XiPeFvfJL8gm"
      }
    },
    {
      "cell_type": "markdown",
      "source": [
        "2.Describe the role of predefined keywords in Python and provide examples of how they are used in a program ?\n",
        "- Control the flow of a program\n",
        "  (if, else, while, for)\n",
        "\n",
        "- Define functions, classes, and modules\n",
        "  ( def, class, import)\n",
        "\n",
        "- Handle exceptions and errors\n",
        "  (try, except, finally)\n",
        "\n",
        "- Define data types and values\n",
        "  ( True, False, None)\n",
        "\n",
        "- Work with logical conditions\n",
        "  ( and, or, not, is, in)\n"
      ],
      "metadata": {
        "id": "aBmUHqTqX_-_"
      }
    },
    {
      "cell_type": "code",
      "source": [
        "# Example 1: if-else keyword\n",
        "x = 10\n",
        "if x > 5:\n",
        "    print(\"Greater than 5\")\n",
        "else:\n",
        "    print(\"5 or less\")\n",
        "\n",
        "# Example 2: def keyword (defining a function)\n",
        "def greet(name):\n",
        "    return f\"Hello, {name}!\"\n",
        "\n",
        "print(greet(\"PW Skills\"))\n",
        "\n",
        "# Example 3: for and in keywords\n",
        "for i in range(3):\n",
        "    print(i)\n",
        "\n",
        "# Example 4: try-except keywords (error handling)\n",
        "try:\n",
        "    result = 10 / 0\n",
        "except ZeroDivisionError:\n",
        "    print(\"You can't divide by zero!\")\n",
        "\n"
      ],
      "metadata": {
        "colab": {
          "base_uri": "https://localhost:8080/"
        },
        "id": "WbDQIkXvMHA0",
        "outputId": "bd88ffb4-35de-45bd-cfb0-c3c3bd2e3827"
      },
      "execution_count": 1,
      "outputs": [
        {
          "output_type": "stream",
          "name": "stdout",
          "text": [
            "Greater than 5\n",
            "Hello, PW Skills!\n",
            "0\n",
            "1\n",
            "2\n",
            "You can't divide by zero!\n"
          ]
        }
      ]
    },
    {
      "cell_type": "markdown",
      "source": [
        "3.Compare and contrast mutable and immutable objects in Python with examples?\n",
        "\n",
        "- Feature\t   Mutable Objects\t               Immutable Objects\n",
        "\n",
        "Definition\tCan be changed after creation\t  Cannot be changed after creation\n",
        "\n",
        "Examples\t  list, dict, set, bytearray\t    int, float, str, tuple, bool\n",
        "\n",
        "Memory    Memory address remains same       New object with new address is\n",
        "Address\t  if modified               \t      created\n",
        "\n",
        "Usage \tUsed when you need to modify data\t  Used for fixed data that shouldn’t\n",
        "                                             change\n"
      ],
      "metadata": {
        "id": "LFVz0OIBZQ1e"
      }
    },
    {
      "cell_type": "code",
      "source": [
        "# List is mutable Example\n",
        "my_list = [1, 2, 3]\n",
        "print(\"Before:\", my_list)\n",
        "my_list.append(4)\n",
        "print(\"After:\", my_list)\n"
      ],
      "metadata": {
        "colab": {
          "base_uri": "https://localhost:8080/"
        },
        "id": "h2aeA-D0awy4",
        "outputId": "25af07b8-4f47-43fb-b139-01a2faafcf53"
      },
      "execution_count": 2,
      "outputs": [
        {
          "output_type": "stream",
          "name": "stdout",
          "text": [
            "Before: [1, 2, 3]\n",
            "After: [1, 2, 3, 4]\n"
          ]
        }
      ]
    },
    {
      "cell_type": "markdown",
      "source": [
        "4. Discuss the different types of operators in Python and provide examples of\n",
        "   how they are used?\n",
        "\n",
        "   Operator Type\t Operator(s)\t                       Example\n",
        "   Arithmetic\t       +\t                          Addition → 5 + 3 = 8\n",
        "                     -\t                          Subtraction → 5 - 3 = 2\n",
        "                     *\t                          Multiplication → 5 * 3 = 15\n",
        "                     /                            Division → 5 / 2 = 2.5\n",
        "                    //\t                          Floor Division → 5 // 2 = 2\n",
        "                    %\t                          Modulus (Remainder) → 5 % 2 = 1\n",
        "                    **\t                       Exponentiation → 2 ** 3 = 8\n",
        "  Assignment\t      =\t                         Assign → x = 5\n",
        "                   +=\t                         Add & assign → x += 3 (x = x + 3)\n",
        "                   -=\t                         Subtract & assign → x -= 2\n",
        "                   *=\t                         Multiply & assign → x *= 2\n",
        "                   /=\t                         Divide & assign → x /= 2\n",
        "                  //=\t                         Floor divide & assign → x //= 2\n",
        "                  %=\t                         Modulus & assign → x %= 2\n",
        "\n",
        " Comparison\t      ==\t                         Equal to → x == y\n",
        "                  !=\t                         Not equal to → x != y\n",
        "                  >\t                           Greater than → x > y\n",
        "                  <                            Less than → x < y\n",
        "                  >=\t                         Greater than or equal → x >= y\n",
        "                  <=\t                         Less than or equal → x <= y\n",
        "\n",
        " Bitwise          ^                            XOR → 5 ^ 3 = 6\n",
        "                  ~\t                           NOT → ~5 = -6\n",
        "                  <<\t                         Left shift → 5 << 1 = 10\n",
        "                  >>\t                         Right shift → 5 >> 1 = 2\n"
      ],
      "metadata": {
        "id": "1FPSzhQMa4a1"
      }
    },
    {
      "cell_type": "code",
      "source": [
        "#example\n",
        "x = 10\n",
        "y = 5\n",
        "\n",
        "# Arithmetic\n",
        "print(x + y)\n",
        "\n",
        "# Comparison\n",
        "print(x > y)\n",
        "\n",
        "# Logical\n",
        "print(x > 5 and y < 10)\n",
        "\n",
        "# Membership\n",
        "print('a' in 'data')\n",
        "\n",
        "# Identity\n",
        "a = [1, 2]\n",
        "b = a\n",
        "print(a is b)\n"
      ],
      "metadata": {
        "colab": {
          "base_uri": "https://localhost:8080/"
        },
        "id": "nQ9WV823eIF7",
        "outputId": "37c46920-3b73-41ea-d134-e7e408aa7490"
      },
      "execution_count": 3,
      "outputs": [
        {
          "output_type": "stream",
          "name": "stdout",
          "text": [
            "15\n",
            "True\n",
            "True\n",
            "True\n",
            "True\n"
          ]
        }
      ]
    },
    {
      "cell_type": "markdown",
      "source": [
        "5. Explain the concept of type casting in Python with examples?\n",
        "- Type Casting means converting one data type into another.\n",
        "  In Python, you can convert between types like int, float, str, bool, etc.\n",
        "- We use it: To perform operations between compatible types.\n",
        "\n",
        "            To take user input (always str) and convert it to int or float.\n",
        "\n",
        "            To format and display data properly.\n"
      ],
      "metadata": {
        "id": "kdCyAxeqeU9q"
      }
    },
    {
      "cell_type": "code",
      "source": [
        "#example\n",
        "a = 5\n",
        "b = 2.5\n",
        "\n",
        "result = a + b\n",
        "print(result)\n",
        "print(type(result))"
      ],
      "metadata": {
        "colab": {
          "base_uri": "https://localhost:8080/"
        },
        "id": "9qpSAmpKe5PX",
        "outputId": "795ac4c2-c806-4da7-cd84-92217f5a8a72"
      },
      "execution_count": 4,
      "outputs": [
        {
          "output_type": "stream",
          "name": "stdout",
          "text": [
            "7.5\n",
            "<class 'float'>\n"
          ]
        }
      ]
    },
    {
      "cell_type": "markdown",
      "source": [
        "6. How do conditional statements work in Python? Illustrate with examples?\n",
        "- Statement\t                Purpose\n",
        "   if\t                 Checks a condition\n",
        "   elif\t               Checks another condition if previous is False\n",
        "   else\t               Runs if all above conditions are False"
      ],
      "metadata": {
        "id": "-v-W5EapfFNz"
      }
    },
    {
      "cell_type": "code",
      "source": [
        "# Example 1: Simple if statement\n",
        "age = 18\n",
        "if age >= 18:\n",
        "    print(\" You are eligible to vote.\")\n",
        "\n",
        "# Example 2: if-else statement\n",
        "marks = 35\n",
        "if marks >= 40:\n",
        "    print(\" Result: Pass\")\n",
        "else:\n",
        "    print(\" Result: Fail\")\n",
        "\n",
        "# Example 3: if-elif-else chain\n",
        "num = 0\n",
        "if num > 0:\n",
        "    print(\" Number is Positive\")\n",
        "elif num < 0:\n",
        "    print(\" Number is Negative\")\n",
        "else:\n",
        "    print(\" Number is Zero\")\n",
        "\n",
        "# Example 4: Logical operators\n",
        "a = 10\n",
        "b = 5\n",
        "if a > 0 and b > 0:\n",
        "    print(\" Both numbers are positive.\")\n",
        "\n",
        "# Example 5: Grade System\n",
        "score = 85\n",
        "if score >= 90:\n",
        "    print(\" Grade A\")\n",
        "elif score >= 75:\n",
        "    print(\" Grade B\")\n",
        "elif score >= 60:\n",
        "    print(\" Grade C\")\n",
        "else:\n",
        "    print(\" Grade D\")\n"
      ],
      "metadata": {
        "colab": {
          "base_uri": "https://localhost:8080/"
        },
        "id": "wZzo15G0fiJ6",
        "outputId": "cce0747e-7135-48c8-cfb0-92c54cbd6257"
      },
      "execution_count": 5,
      "outputs": [
        {
          "output_type": "stream",
          "name": "stdout",
          "text": [
            " You are eligible to vote.\n",
            " Result: Fail\n",
            " Number is Zero\n",
            " Both numbers are positive.\n",
            " Grade B\n"
          ]
        }
      ]
    },
    {
      "cell_type": "markdown",
      "source": [
        "7. Describe the different types of loops in Python and their use cases with\n",
        "   examples?\n",
        "   - n Python, loops are used to execute a block of code repeatedly as long as a certain condition is met or for a fixed number of times. There are primarily two main types of loops in Python: for loops and while loops. Additionally, you can also use nested loops for working with complex or multi-level data.\n",
        "\n",
        "  The for loop is used when you want to iterate over a sequence like a list, string, tuple, or a range of numbers. It is commonly used when the number of iterations is known.\n",
        "  - The while loop is used when the number of repetitions is not known in advance and depends on a condition being true. The loop continues to run as long as the condition remains true. For instance, i = 1; while i < 5: print(i); i += 1 will print the numbers 1 to 4, stopping when i becomes 5. while loops are perfect for situations where you are waiting for something to happen, like user input or sensor data, or when running a game loop until the player loses.\n",
        "  - Python also supports loop control statements like break, continue, and pass. The break statement is used to exit the loop prematurely when a certain condition is met. The continue statement skips the current iteration and moves to the next one. The pass statement is used as a placeholder and does nothing—it simply allows you to write empty loops or blocks of code during development."
      ],
      "metadata": {
        "id": "R11hy5nufzYw"
      }
    },
    {
      "cell_type": "code",
      "source": [
        "#examples of loop\n",
        "# Print numbers from 1 to 5 using for loop\n",
        "for i in range(1, 6):\n",
        "    print(i)\n"
      ],
      "metadata": {
        "colab": {
          "base_uri": "https://localhost:8080/"
        },
        "id": "P68YiDaOgilV",
        "outputId": "2cb12520-dae4-488c-f68d-c01d749e538b"
      },
      "execution_count": 6,
      "outputs": [
        {
          "output_type": "stream",
          "name": "stdout",
          "text": [
            "1\n",
            "2\n",
            "3\n",
            "4\n",
            "5\n"
          ]
        }
      ]
    }
  ]
}